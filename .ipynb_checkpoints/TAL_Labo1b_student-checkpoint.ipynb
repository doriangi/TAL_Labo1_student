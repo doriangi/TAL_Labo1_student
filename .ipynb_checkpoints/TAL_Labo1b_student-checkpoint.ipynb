{
 "cells": [
  {
   "cell_type": "markdown",
   "metadata": {},
   "source": [
    "# TAL Labo 1b : Segmentation de textes avec NLTK\n",
    "\n",
    "**Objectifs**\n",
    "\n",
    "Le but de cette deuxième partie du Labo 1 du [Cours TAL](https://cyberlearn.hes-so.ch/course/view.php?id=14966) est d'effectuer quelques opérations élémentaires sur les textes en utilisant la boîte à outils [NLTK](http://www.nltk.org/) en Python.  Vous utiliserez l'environnement mis en place dans la partie 1a : [Python 3.7 ou 3.8](https://www.python.org/) avec _notebooks_ [Jupyter](https://jupyter.org/), soit localement sur votre ordinateur (avec ou sans Conda) ou en ligne sur [Google Colab](https://colab.research.google.com).\n",
    "\n",
    "Vous utiliserez NLTK pour obtenir des textes en ligne ou localement, puis vous les segmenterez en phrases et en mots (appelés aussi _tokens_).  Vous calculerez aussi des statistiques sur ces textes.  Vous travaillerez d'abord sur des textes en anglais (1b et 1c), puis en français (1d)."
   ]
  },
  {
   "cell_type": "markdown",
   "metadata": {},
   "source": [
    "## 1. NLTK: Natural Language Toolkit\n",
    "\n",
    "Pour ajouter NLTK à votre installation locale de Python, suivez les instructions sur le [site web NLTK](http://www.nltk.org/install.html).  Sur Google Colab, NLTK est déjà installé.\n",
    "\n",
    "Pour utiliser NLTK en Python (y compris dans un _notebook_ Jupyter), vous pouvez écrire `import nltk`, puis accéder à toutes les commandes avec le préfixe `nltk.`.  Si vous écrivez `from nltk.book import *`, cela importera des commandes et des variables (p.ex. une collection de textes) qui seront accessibles sans utiliser le préfixe. \n",
    "\n",
    "**Remarques**\n",
    "* Le but de ce laboratoire est de vous initier à NLTK.  Vous pouvez aussi parcourir le [Chapitre 1](http://www.nltk.org/book/ch01.html) du [livre NLTK (*NLP with Python*)](http://www.nltk.org/book/) et essayer les commandes indiquées.  \n",
    "* Veuillez noter que le [livre en ligne](http://www.nltk.org/book/) est mis à jour pour Python 3, mais la [version imprimée](http://shop.oreilly.com/product/9780596516499.do) que l'on peut parfois trouver en PDF est pour Python 2. \n",
    "* NLTK inclut un gestionnaire de téléchargements qui peut être invoqué depuis un interpréteur Python en ligne de commande (écrire `python3` en ligne de commande) avec les deux commandes `import nltk` puis `nltk.download()`.  Cela vous permettra de télécharger de nombreux corpus _additionnels_ (i.e. collections de textes), mais que nous n'utiliserons pas en laboratoire."
   ]
  },
  {
   "cell_type": "code",
   "execution_count": 1,
   "metadata": {},
   "outputs": [
    {
     "name": "stderr",
     "output_type": "stream",
     "text": [
      "[nltk_data] Downloading package punkt to\n",
      "[nltk_data]     C:\\Users\\gilli\\AppData\\Roaming\\nltk_data...\n",
      "[nltk_data]   Package punkt is already up-to-date!\n"
     ]
    },
    {
     "data": {
      "text/plain": [
       "True"
      ]
     },
     "execution_count": 1,
     "metadata": {},
     "output_type": "execute_result"
    }
   ],
   "source": [
    "import nltk\n",
    "#from nltk.book import *\n",
    "nltk.download('punkt')"
   ]
  },
  {
   "cell_type": "markdown",
   "metadata": {},
   "source": [
    "Écrivez une phrase en anglais (liste de mots / string) que vous appelerez `sentence1`.  \n",
    "\n",
    "Affichez sa longueur avec `len()`.  \n",
    "\n",
    "Utilisez `nltk.bigrams` pour générer tous les bi-grammes (couples de mots adjacents) à partir de cette liste.  Un exemple est montré dans la [section 3.3 du chapitre 1 du livre NLTK](http://www.nltk.org/book/ch01.html#collocations-and-bigrams).  \n",
    "\n",
    "Enfin, trier les bi-grammes par ordre alphabétique et afficher le résultat."
   ]
  },
  {
   "cell_type": "code",
   "execution_count": 2,
   "metadata": {},
   "outputs": [
    {
     "name": "stdout",
     "output_type": "stream",
     "text": [
      "25\n"
     ]
    },
    {
     "data": {
      "text/plain": [
       "[('I', 'like'), ('like', 'to'), ('to', 'eat'), ('eat', 'hamburgers.')]"
      ]
     },
     "execution_count": 2,
     "metadata": {},
     "output_type": "execute_result"
    }
   ],
   "source": [
    "# Please write your Python code in this cell and execute it.\n",
    "sentence1 = \"I like to eat hamburgers.\"\n",
    "print(len(sentence1))\n",
    "list(nltk.bigrams(sentence1.split(\" \")))"
   ]
  },
  {
   "cell_type": "markdown",
   "metadata": {},
   "source": [
    "Défnissez une chaîne appelée `string2` contenant une phrase.  Utilisez le *tokenizer* de NLTK (fonction `nltk.word_tokenize`, expliquée dans la [section 3.1 du livre NLTK](http://www.nltk.org/book/ch03.html#sec-accessing-text)) pour segmenter la chaîne en mots, qui seront rassemblés dans une liste que vous appelerez `sentence2`.  Affichez cette liste."
   ]
  },
  {
   "cell_type": "code",
   "execution_count": 3,
   "metadata": {},
   "outputs": [
    {
     "data": {
      "text/plain": [
       "['Joseph',\n",
       " 'ate',\n",
       " 'all',\n",
       " 'my',\n",
       " 'hamburgers',\n",
       " ',',\n",
       " 'now',\n",
       " 'I',\n",
       " \"'m\",\n",
       " 'very',\n",
       " 'sad',\n",
       " '.']"
      ]
     },
     "execution_count": 3,
     "metadata": {},
     "output_type": "execute_result"
    }
   ],
   "source": [
    "# Please write your Python code in this cell and execute it.\n",
    "string2 = \"Joseph ate all my hamburgers, now I'm very sad.\"\n",
    "tokens = nltk.word_tokenize(string2)\n",
    "tokens"
   ]
  },
  {
   "cell_type": "markdown",
   "metadata": {},
   "source": [
    "## 2. Utiliser NLTK pour télécharger, segmenter et sauvegarder un texte\n",
    "\n",
    "Inspirez-vous du [chapitre 3 (3.1. Processing Raw Text) du livre NLTK](http://www.nltk.org/book/ch03.html) pour télécharger un fichier avec du texte en ligne, par exemple un livre anglais du Projet Gutenberg.  Stocker le contenu dans une chaîne."
   ]
  },
  {
   "cell_type": "code",
   "execution_count": 4,
   "metadata": {},
   "outputs": [],
   "source": [
    "from urllib import request\n",
    "# Please write your Python code below and execute it.\n",
    "url = \"http://www.gutenberg.org/files/2554/2554-0.txt\"\n",
    "response = request.urlopen(url)\n",
    "raw = response.read().decode('utf8')"
   ]
  },
  {
   "cell_type": "markdown",
   "metadata": {},
   "source": [
    "En inspectant la chaîne précédente, déterminez quelle partie du début et de la fin il faut enlever pour garder le texte principal.  Vous pouvez utiliser la notation dite de *slicing* en Python, ou identifier les chaînes où commence et finit le véritable texte.  Quelle est la longueur de ce texte en caractères ?  (Lien utile : [support d'Unicode dans Python](https://docs.python.org/3.7/howto/unicode.html).)"
   ]
  },
  {
   "cell_type": "code",
   "execution_count": 5,
   "metadata": {},
   "outputs": [],
   "source": [
    "# Please write your Python code below and execute it.\n",
    "import re\n",
    "cropped = raw[raw.find(\"PART I\"):raw.rfind(\"*** END OF THE PROJECT GUTENBERG EBOOK CRIME AND PUNISHMENT ***\")]\n",
    "stripped = cropped.replace('\\r', '').replace('\\n', ' ')\n",
    "clean = re.sub(r'\\s+', ' ', stripped)"
   ]
  },
  {
   "cell_type": "markdown",
   "metadata": {},
   "source": [
    "Vous allez maintenant segmenter le texte en phrases et les écrire dans un fichier avec une phrase par ligne.  Vous allez également segmenter chaque phrase en _tokens_ (mots et ponctuations), et créer un autre fichier, avec une phrase par ligne, et un espace entre chaque _token_.  Vous aurez besoin des fonctions suivantes de nltk:\n",
    "* `nltk.sent_tokenize(...)` (documentée [ici](https://www.nltk.org/api/nltk.tokenize.html#nltk.tokenize.word_tokenize)) (notez que le nom \"sentence tokenize\" n'est pas très logique)\n",
    "* `nltk.word_tokenize(...)` (documentée [ici](https://www.nltk.org/api/nltk.tokenize.html#nltk.tokenize.sent_tokenize))"
   ]
  },
  {
   "cell_type": "markdown",
   "metadata": {},
   "source": [
    "**Segmentez le texte en phrases avec NLTK.** Affichez le nombre de phrases obtenues, et un court extrait de 5-6 phrases.  Comment appréciez-vous la qualité de la segmentation ?  *Note :* si certains caractères spéciaux vous semblent péjorer la segmentation, vous pouvez les remplacer dans la chaîne globale avec la fonction `.replace('s1', 's2')`."
   ]
  },
  {
   "cell_type": "code",
   "execution_count": 6,
   "metadata": {
    "scrolled": true
   },
   "outputs": [
    {
     "name": "stdout",
     "output_type": "stream",
     "text": [
      "11906\n",
      "['PART I CHAPTER I On an exceptionally hot evening early in July a young man came out of the garret in which he lodged in S. Place and walked slowly, as though in hesitation, towards K. bridge.', 'He had successfully avoided meeting his landlady on the staircase.', 'His garret was under the roof of a high, five-storied house and was more like a cupboard than a room.', 'The landlady who provided him with garret, dinners, and attendance, lived on the floor below, and every time he went out he was obliged to pass her kitchen, the door of which invariably stood open.', 'And each time he passed, the young man had a sick, frightened feeling, which made him scowl and feel ashamed.', 'He was hopelessly in debt to his landlady, and was afraid of meeting her.']\n"
     ]
    }
   ],
   "source": [
    "# Please write your Python code in this cell and execute it.\n",
    "sentences = nltk.tokenize.sent_tokenize(clean, language='english')\n",
    "print(len(sentences))\n",
    "print(sentences[:6])"
   ]
  },
  {
   "cell_type": "markdown",
   "metadata": {},
   "source": [
    "La qualité de la segmentation de notre extrait à l'air correcte. Cependant, les textes comme \"PART I\" ou \"CHAPTER I\" sont considérés avec la phrase qui suit ces textes alors qu'ils ne devraient pas être considérés comme faisant partie de la phrase."
   ]
  },
  {
   "cell_type": "markdown",
   "metadata": {},
   "source": [
    "Enregistrez le résultat au format texte, en écrivant chaque phrase sur une ligne.  Vérifiez le résultat en examinant le fichier avec un éditeur de texte."
   ]
  },
  {
   "cell_type": "code",
   "execution_count": 7,
   "metadata": {},
   "outputs": [],
   "source": [
    "import os"
   ]
  },
  {
   "cell_type": "code",
   "execution_count": 8,
   "metadata": {},
   "outputs": [],
   "source": [
    "filename1 = \"sample_text_1.txt\"\n",
    "# Pour un fichier local : chemin relatif par rapport au notebook\n",
    "# Pour Google Colab, p.ex.: /content/gdrive/My Drive/sample_text_1.txt\n",
    "if os.path.exists(filename1): \n",
    "    os.remove(filename1)\n",
    "fd = open(filename1, 'a', encoding='utf8')\n",
    "# Please write your Python code below and execute it.\n",
    "for sentence in sentences:\n",
    "    fd.write(sentence + '\\n')  # Write the string followed by a newline character"
   ]
  },
  {
   "cell_type": "markdown",
   "metadata": {},
   "source": [
    "**Segmentez maintenant chaque phrase en tokens (mots et ponctuations).**  Stockez le résultat dans une nouvelle variable (liste de listes).  Affichez quelques phrases et commentez la qualité de la tokenisation."
   ]
  },
  {
   "cell_type": "code",
   "execution_count": 9,
   "metadata": {},
   "outputs": [
    {
     "data": {
      "text/plain": [
       "[['PART',\n",
       "  'I',\n",
       "  'CHAPTER',\n",
       "  'I',\n",
       "  'On',\n",
       "  'an',\n",
       "  'exceptionally',\n",
       "  'hot',\n",
       "  'evening',\n",
       "  'early',\n",
       "  'in',\n",
       "  'July',\n",
       "  'a',\n",
       "  'young',\n",
       "  'man',\n",
       "  'came',\n",
       "  'out',\n",
       "  'of',\n",
       "  'the',\n",
       "  'garret',\n",
       "  'in',\n",
       "  'which',\n",
       "  'he',\n",
       "  'lodged',\n",
       "  'in',\n",
       "  'S.',\n",
       "  'Place',\n",
       "  'and',\n",
       "  'walked',\n",
       "  'slowly',\n",
       "  ',',\n",
       "  'as',\n",
       "  'though',\n",
       "  'in',\n",
       "  'hesitation',\n",
       "  ',',\n",
       "  'towards',\n",
       "  'K.',\n",
       "  'bridge',\n",
       "  '.'],\n",
       " ['He',\n",
       "  'had',\n",
       "  'successfully',\n",
       "  'avoided',\n",
       "  'meeting',\n",
       "  'his',\n",
       "  'landlady',\n",
       "  'on',\n",
       "  'the',\n",
       "  'staircase',\n",
       "  '.'],\n",
       " ['His',\n",
       "  'garret',\n",
       "  'was',\n",
       "  'under',\n",
       "  'the',\n",
       "  'roof',\n",
       "  'of',\n",
       "  'a',\n",
       "  'high',\n",
       "  ',',\n",
       "  'five-storied',\n",
       "  'house',\n",
       "  'and',\n",
       "  'was',\n",
       "  'more',\n",
       "  'like',\n",
       "  'a',\n",
       "  'cupboard',\n",
       "  'than',\n",
       "  'a',\n",
       "  'room',\n",
       "  '.'],\n",
       " ['The',\n",
       "  'landlady',\n",
       "  'who',\n",
       "  'provided',\n",
       "  'him',\n",
       "  'with',\n",
       "  'garret',\n",
       "  ',',\n",
       "  'dinners',\n",
       "  ',',\n",
       "  'and',\n",
       "  'attendance',\n",
       "  ',',\n",
       "  'lived',\n",
       "  'on',\n",
       "  'the',\n",
       "  'floor',\n",
       "  'below',\n",
       "  ',',\n",
       "  'and',\n",
       "  'every',\n",
       "  'time',\n",
       "  'he',\n",
       "  'went',\n",
       "  'out',\n",
       "  'he',\n",
       "  'was',\n",
       "  'obliged',\n",
       "  'to',\n",
       "  'pass',\n",
       "  'her',\n",
       "  'kitchen',\n",
       "  ',',\n",
       "  'the',\n",
       "  'door',\n",
       "  'of',\n",
       "  'which',\n",
       "  'invariably',\n",
       "  'stood',\n",
       "  'open',\n",
       "  '.'],\n",
       " ['And',\n",
       "  'each',\n",
       "  'time',\n",
       "  'he',\n",
       "  'passed',\n",
       "  ',',\n",
       "  'the',\n",
       "  'young',\n",
       "  'man',\n",
       "  'had',\n",
       "  'a',\n",
       "  'sick',\n",
       "  ',',\n",
       "  'frightened',\n",
       "  'feeling',\n",
       "  ',',\n",
       "  'which',\n",
       "  'made',\n",
       "  'him',\n",
       "  'scowl',\n",
       "  'and',\n",
       "  'feel',\n",
       "  'ashamed',\n",
       "  '.'],\n",
       " ['He',\n",
       "  'was',\n",
       "  'hopelessly',\n",
       "  'in',\n",
       "  'debt',\n",
       "  'to',\n",
       "  'his',\n",
       "  'landlady',\n",
       "  ',',\n",
       "  'and',\n",
       "  'was',\n",
       "  'afraid',\n",
       "  'of',\n",
       "  'meeting',\n",
       "  'her',\n",
       "  '.']]"
      ]
     },
     "execution_count": 9,
     "metadata": {},
     "output_type": "execute_result"
    }
   ],
   "source": [
    "# Please write your Python code in this cell and execute it.\n",
    "words = [nltk.word_tokenize(sentence) for sentence in sentences]\n",
    "words[:6]"
   ]
  },
  {
   "cell_type": "markdown",
   "metadata": {},
   "source": [
    "La tokenisation est bonne. Les mots sont bien séparés, par exemple les abréviations de noms (S.) sont considérés comme un seul token et non séparés en deux. C'est aussi le cas pour les mots composés (five-storied) qui sont considérés comme un token."
   ]
  },
  {
   "cell_type": "markdown",
   "metadata": {},
   "source": [
    "Calculez le nombre total de _tokens_ obtenus."
   ]
  },
  {
   "cell_type": "code",
   "execution_count": 10,
   "metadata": {},
   "outputs": [
    {
     "data": {
      "text/plain": [
       "252740"
      ]
     },
     "execution_count": 10,
     "metadata": {},
     "output_type": "execute_result"
    }
   ],
   "source": [
    "# Please write your Python code in this cell and execute it.\n",
    "total = sum(len(word) for word in words)\n",
    "total"
   ]
  },
  {
   "cell_type": "markdown",
   "metadata": {},
   "source": [
    "Enregistrez le résultat au format texte, en écrivant chaque phrase sur une ligne et en insérant un espace entre chaque _token_.  Vérifiez le résultat en examinant le fichier avec un éditeur de texte."
   ]
  },
  {
   "cell_type": "code",
   "execution_count": 11,
   "metadata": {},
   "outputs": [],
   "source": [
    "filename2 = \"sample_text_2.txt\"\n",
    "# Pour un fichier local : chemin relatif par rapport au notebook\n",
    "# Pour Google Colab, p.ex.: /content/gdrive/My Drive/sample_text_2.txt\n",
    "if os.path.exists(filename2): \n",
    "    os.remove(filename2)\n",
    "fd = open(filename2, 'a', encoding='utf8')\n",
    "# Please write your Python code below and execute it.\n",
    "for sentence in words:\n",
    "    for word in sentence:\n",
    "        fd.write(word + ' ')\n",
    "    fd.write(\"\\n\")"
   ]
  },
  {
   "cell_type": "markdown",
   "metadata": {},
   "source": [
    "Il est également possible de *tokeniser un texte sans le segmenter préalablement en phrases*.\n",
    "* Effectuez cette opération directement sur la chaîne de caractères contenant tout le texte.  \n",
    "* Affichez et observez un court extrait. \n",
    "* Demandez le nombre total de tokens et comparez-le avec le nombre précédent.  \n",
    "* Il n'est pas demandé ici d'écrire le résultat dans un fichier."
   ]
  },
  {
   "cell_type": "code",
   "execution_count": 19,
   "metadata": {
    "scrolled": true
   },
   "outputs": [
    {
     "name": "stdout",
     "output_type": "stream",
     "text": [
      "['PART', 'I', 'CHAPTER', 'I', 'On', 'an', 'exceptionally', 'hot', 'evening', 'early', 'in', 'July', 'a', 'young', 'man', 'came', 'out', 'of', 'the', 'garret', 'in', 'which', 'he', 'lodged', 'in', 'S.', 'Place', 'and', 'walked', 'slowly', ',', 'as', 'though', 'in', 'hesitation', ',', 'towards', 'K.', 'bridge', '.', 'He', 'had', 'successfully', 'avoided', 'meeting', 'his', 'landlady', 'on', 'the', 'staircase']\n",
      "252740\n"
     ]
    }
   ],
   "source": [
    "# Please write your Python code in this cell and execute it.\n",
    "tokens = nltk.tokenize.word_tokenize(clean, language='english')\n",
    "print(tokens[:50])\n",
    "print(len(tokens))"
   ]
  },
  {
   "cell_type": "markdown",
   "metadata": {},
   "source": [
    "On obtient exactement le même nombre"
   ]
  },
  {
   "cell_type": "markdown",
   "metadata": {},
   "source": [
    "## 3. Calculer diverses statistiques avec NLTK\n",
    "Pour calculer des statistiques, il faut d'abord créer un objet de type `nltk.Text`.  Ces objets peuvent être créés avec : \n",
    "1. la chaîne de caractères constituant le texte\n",
    "2. la liste de tous les mots du texte (chaînes)\n",
    "3. la liste de toutes les phrases (liste de listes)\n",
    "\n",
    "**Attention:**\n",
    "\n",
    "* seule l'option (2) permet d'utiliser correctement les méthodes de `nltk.Text`\n",
    "* les méthodes `nltk.word_tokenize()` et `nltk.sent_tokenize()` s'appliquent à des chaînes, pas des `nltk.Text`"
   ]
  },
  {
   "cell_type": "markdown",
   "metadata": {},
   "source": [
    "Créez et stockez dans une variable un objet `nltk.Text` à partir de la liste des tokens de votre texte.  (Vous pouvez appeler ici `nltk.word_tokenize`.)"
   ]
  },
  {
   "cell_type": "code",
   "execution_count": 21,
   "metadata": {
    "scrolled": true
   },
   "outputs": [
    {
     "data": {
      "text/plain": [
       "<Text: PART I CHAPTER I On an exceptionally hot...>"
      ]
     },
     "execution_count": 21,
     "metadata": {},
     "output_type": "execute_result"
    }
   ],
   "source": [
    "# Please write your Python code in this cell and execute it.\n",
    "text = nltk.Text(nltk.word_tokenize(clean, language='english'))"
   ]
  },
  {
   "cell_type": "markdown",
   "metadata": {},
   "source": [
    "Le [chapitre 1 du livre NLTK](http://www.nltk.org/book/ch01.html) montre des exemples d'opérations que l'on peut effectuer sur un objet `nltk.Text`.  Par exemple, on peut afficher les occurrences d'un mot et leur contexte immédiat avec la méthode `concordance`, ou trouver des mots qui ont des contextes semblables à un mot donné avec `similar`.  Veuillez expérimenter ci-dessous avec ces deux méthodes et afficher un résultat à chaque fois."
   ]
  },
  {
   "cell_type": "code",
   "execution_count": 23,
   "metadata": {},
   "outputs": [
    {
     "name": "stdout",
     "output_type": "stream",
     "text": [
      "Displaying 25 of 112 matches:\n",
      "tionally hot evening early in July a young man came out of the garret in which \n",
      "open . And each time he passed , the young man had a sick , frightened feeling \n",
      "mer -- all worked painfully upon the young man ’ s already overwrought nerves .\n",
      " disgust gleamed for a moment in the young man ’ s refined face . He was , by t\n",
      "lated bitterness and contempt in the young man ’ s heart , that , in spite of a\n",
      "his voice and pointing at him -- the young man stopped suddenly and clutched tr\n",
      " were employed on the building . The young man was very glad to meet none of th\n",
      "der , and opened the door wide . The young man stepped into the dark entry , wh\n",
      "d and groaned at every instant . The young man must have looked at her with a r\n",
      "nt , I came here a month ago , ” the young man made haste to mutter , with a ha\n",
      "ir. ” The little room into which the young man walked , with yellow paper on th\n",
      " “ Lizaveta ’ s work , ” thought the young man . There was not a speck of dust \n",
      " “ A rouble and a half ! ” cried the young man . “ Please yourself ” -- and the\n",
      "oman handed him back the watch . The young man took it , and was so angry that \n",
      "he curtain into the other room . The young man , left standing alone in the mid\n",
      "een copecks now ! ” “ Just so. ” The young man did not dispute it and took the \n",
      "ho looked like a retired clerk . The young man often recalled this impression a\n",
      " No , I am studying , ” answered the young man , somewhat surprised at the gran\n",
      " and glass , and sat down beside the young man , facing him a little sideways .\n",
      "nk , didn ’ t I suffer ? Excuse me , young man , has it ever happened to you ..\n",
      "ing with a certain uneasiness at the young man . “ No matter , sir , no matter \n",
      "t ! ‘ Behold the man ! ’ Excuse me , young man , can you .... No , to put it mo\n",
      ", assert that I am not a pig ? ” The young man did not answer a word . “ Well ,\n",
      " being ashamed , she pulls my hair , young man , ” he declared with redoubled d\n",
      " laid his head down on the table . “ Young man , ” he went on , raising his hea\n"
     ]
    }
   ],
   "source": [
    "# Please write your Python code in this cell and execute it.\n",
    "text.concordance(\"young\")"
   ]
  },
  {
   "cell_type": "code",
   "execution_count": 24,
   "metadata": {},
   "outputs": [
    {
     "name": "stdout",
     "output_type": "stream",
     "text": [
      "drunken a old little clever mad the much good generous poor sensible\n",
      "dead more sick so seen bad different stupid\n"
     ]
    }
   ],
   "source": [
    "# Please write your Python code in this cell and execute it.\n",
    "text.similar(\"young\")"
   ]
  },
  {
   "cell_type": "markdown",
   "metadata": {},
   "source": [
    "En utilisant la méthode `collocation_list`, veuilez afficher les 10 collocations les plus fréquentes dans votre texte."
   ]
  },
  {
   "cell_type": "code",
   "execution_count": 27,
   "metadata": {},
   "outputs": [
    {
     "name": "stderr",
     "output_type": "stream",
     "text": [
      "[nltk_data] Downloading package stopwords to\n",
      "[nltk_data]     C:\\Users\\gilli\\AppData\\Roaming\\nltk_data...\n",
      "[nltk_data]   Package stopwords is already up-to-date!\n"
     ]
    },
    {
     "data": {
      "text/plain": [
       "[('Katerina', 'Ivanovna'),\n",
       " ('Pyotr', 'Petrovitch'),\n",
       " ('Pulcheria', 'Alexandrovna'),\n",
       " ('Avdotya', 'Romanovna'),\n",
       " ('Rodion', 'Romanovitch'),\n",
       " ('Marfa', 'Petrovna'),\n",
       " ('Sofya', 'Semyonovna'),\n",
       " ('old', 'woman'),\n",
       " ('Porfiry', 'Petrovitch'),\n",
       " ('Amalia', 'Ivanovna')]"
      ]
     },
     "execution_count": 27,
     "metadata": {},
     "output_type": "execute_result"
    }
   ],
   "source": [
    "# Please write your Python code in this cell and execute it.\n",
    "nltk.download('stopwords')\n",
    "text.collocation_list()[:10]"
   ]
  },
  {
   "cell_type": "markdown",
   "metadata": {},
   "source": [
    "On peut déterminer le vocabulaire d'un texte (c'est-à-dire la liste des _types_) simplement en convertissant la liste des mots (occurrences ou _tokens_) à un `set` en Python.  \n",
    "* Veuillez calculer ainsi le vocabulaire de votre texte.\n",
    "* Combien de mots différents a-t-il ?  (En incluant les ponctuations et tout autre symbole.) \n",
    "* Quels sont les mots qui ont plus de 15 lettres ?  (Ou une autre taille qui vous semble intéressante.)"
   ]
  },
  {
   "cell_type": "code",
   "execution_count": 35,
   "metadata": {},
   "outputs": [
    {
     "name": "stdout",
     "output_type": "stream",
     "text": [
      "11012\n",
      "['self-confidently', 'straight-forward', 'terrible-looking', 'disproportionately', '_psychologically_', 'well-proportioned', 'poverty-stricken', '_Hof-kriegsrath_', 'waistcoat-pocket', 'evil-intentioned', 'grey-and-rainbow-coloured', 'Governor-General', 'Schleswig-Holstein', 'half-broken-down', 'pawnbroker-woman', 'cross-examination', 'Cough-cough-cough', 'misunderstanding', 'conscience-prick', 'frightened-looking', 'delicate-looking', 'indistinguishable', 'horrible-looking', 'disproportionate', 'indiscriminately', 'enthusiastically', 'circumstantially', 'superciliousness', 'governor-general', 'sinister-looking']\n"
     ]
    }
   ],
   "source": [
    "# Please write your Python code in this cell and execute it.\n",
    "types = set(tokens)\n",
    "print(len(types))\n",
    "print([word for word in types if len(word) > 15])"
   ]
  },
  {
   "cell_type": "markdown",
   "metadata": {},
   "source": [
    "**Distributions de fréquence (Frequency Distributions)**\n",
    "\n",
    "NLTK peut facilement calculer les fréquences de tous les _tokens_ dans un `nltk.Text`.  Le résultat est stocké dans un objet de type `FreqDist` (pour _frequency distribution_) comme montré dans la [section 3.1 du chapitre 1 du livre NLTK](http://www.nltk.org/book/ch01.html#frequency-distributions).  À partir de là, on peut déterminer les mots les plus fréquents.\n",
    "\n",
    "Veuillez construire la distribution de fréquences de votre texte."
   ]
  },
  {
   "cell_type": "code",
   "execution_count": 37,
   "metadata": {},
   "outputs": [],
   "source": [
    "# Please write your Python code in this cell and execute it.\n",
    "freq = nltk.FreqDist(text)"
   ]
  },
  {
   "cell_type": "markdown",
   "metadata": {},
   "source": [
    "Affichez les mots qui ont plus de 4 lettres parmi les 70 mots les plus fréquents."
   ]
  },
  {
   "cell_type": "code",
   "execution_count": 67,
   "metadata": {},
   "outputs": [
    {
     "data": {
      "text/plain": [
       "[('Raskolnikov', 782),\n",
       " ('there', 597),\n",
       " ('would', 552),\n",
       " ('about', 522),\n",
       " ('could', 485),\n",
       " ('though', 411),\n",
       " ('Sonia', 399),\n",
       " ('again', 380),\n",
       " ('Razumihin', 344),\n",
       " ('himself', 334),\n",
       " ('which', 324),\n",
       " ('Dounia', 321),\n",
       " ('before', 307),\n",
       " ('thought', 305),\n",
       " ('Ivanovna', 301),\n",
       " ('looked', 293),\n",
       " ('Petrovitch', 286),\n",
       " ('something', 283),\n",
       " ('little', 278),\n",
       " ('still', 267),\n",
       " ('began', 264),\n",
       " ('suddenly', 262),\n",
       " ('nothing', 258),\n",
       " ('cried', 240),\n",
       " ('first', 220),\n",
       " ('their', 217),\n",
       " ('Katerina', 216),\n",
       " ('without', 214),\n",
       " ('should', 213),\n",
       " ('right', 212),\n",
       " ('almost', 208),\n",
       " ('Svidrigaïlov', 205),\n",
       " ('There', 204),\n",
       " ('Porfiry', 204),\n",
       " ('moment', 203),\n",
       " ('after', 203),\n",
       " ('mother', 202),\n",
       " ('woman', 200),\n",
       " ('think', 198),\n",
       " ('looking', 192),\n",
       " ('other', 187),\n",
       " ('asked', 187),\n",
       " ('another', 186),\n",
       " ('seemed', 184),\n",
       " ('shall', 182),\n",
       " ('going', 179),\n",
       " ('stood', 175),\n",
       " ('turned', 175),\n",
       " ('understand', 173),\n",
       " ('Pyotr', 173),\n",
       " ('quite', 167),\n",
       " ('course', 167),\n",
       " ('might', 163),\n",
       " ('money', 163),\n",
       " ('perhaps', 161),\n",
       " ('people', 160),\n",
       " ('great', 160),\n",
       " ('heard', 158),\n",
       " ('believe', 157),\n",
       " ('myself', 156),\n",
       " ('everything', 154),\n",
       " ('hands', 149),\n",
       " ('where', 149),\n",
       " ('never', 146),\n",
       " ('anything', 144),\n",
       " ('because', 139),\n",
       " ('thing', 137),\n",
       " ('better', 137),\n",
       " ('through', 136),\n",
       " ('always', 135)]"
      ]
     },
     "execution_count": 67,
     "metadata": {},
     "output_type": "execute_result"
    }
   ],
   "source": [
    "# Please write your Python code in this cell and execute it.\n",
    "freq_words = [(word, count) for word, count in freq.most_common() if len(word) > 4][:70]\n",
    "freq_words"
   ]
  },
  {
   "cell_type": "markdown",
   "metadata": {},
   "source": [
    "## 4. Graphiques\n",
    "La librairie `matplotlib` permet d'afficher les statistiques des textes sous forme graphique.  Pour la rendre accessible dans le _notebook_ (une fois installée dans Python), il faut exécuter les deux lignes suivantes.\n",
    "\n",
    "Nous allons utiliser les fonctions graphiques de NLTK, mais il est possible de générer directement des graphiques à partir de deux listes `x_values` et `y_values` avec la commande `matplotlib.pyplot.plot(x_values, y_values)`."
   ]
  },
  {
   "cell_type": "code",
   "execution_count": 46,
   "metadata": {},
   "outputs": [],
   "source": [
    "import matplotlib.pyplot as plt\n",
    "%matplotlib inline"
   ]
  },
  {
   "cell_type": "markdown",
   "metadata": {},
   "source": [
    "Affichez le graphique cumulatif des nombres d'occurrences des 70 mots les plus fréquents de votre texte, en vous inspirant de la  [section 3.1 du chapitre 1 du livre NLTK](http://www.nltk.org/book/ch01.html#frequency-distributions)."
   ]
  },
  {
   "cell_type": "code",
   "execution_count": 68,
   "metadata": {},
   "outputs": [
    {
     "data": {
      "image/png": "[encoded data removed]",
      "text/plain": [
       "<Figure size 936x432 with 1 Axes>"
      ]
     },
     "metadata": {
      "needs_background": "light"
     },
     "output_type": "display_data"
    }
   ],
   "source": [
    "# Please write your Python code in this cell and execute it.\n",
    "#data = freq.most_common(70)\n",
    "data = freq_words\n",
    "words = [item[0] for item in data]\n",
    "frequencies = [item[1] for item in data]\n",
    "\n",
    "plt.figure(figsize=(13, 6))\n",
    "plt.plot(words, frequencies, marker='o')\n",
    "plt.xlabel('Words')\n",
    "plt.ylabel('Frequencies')\n",
    "plt.title('Word Frequencies')\n",
    "plt.xticks(rotation=90, ha='right')\n",
    "plt.gca().margins(x=0.01)\n",
    "plt.gcf().canvas.draw()\n",
    "plt.show()"
   ]
  },
  {
   "cell_type": "markdown",
   "metadata": {},
   "source": [
    "Maintenant, construisez une liste avec la longueur de chaque _token_ du texte (la liste aura donc autant de nombres que de tokens).  Créez un nouvel objet `FreqDist` à partir de cette liste, et affichez la distribution (cette fois-ci _non_-cumulative) des nombres d'occurrences.  Quelle est la longueur la plus fréquente ?  Comment évolue la longueur en fonction de la fréquence ?"
   ]
  },
  {
   "cell_type": "code",
   "execution_count": 88,
   "metadata": {
    "scrolled": false
   },
   "outputs": [
    {
     "name": "stdout",
     "output_type": "stream",
     "text": [
      "Most common word length\n",
      "[(1, 55348)]\n",
      "[(1, 55348), (3, 51865), (4, 37822), (2, 37560), (5, 20170), (6, 15139), (7, 12773), (8, 8735), (9, 5482), (10, 3558), (11, 2271), (12, 1251), (13, 515), (14, 142), (15, 67), (16, 27), (17, 11), (18, 3), (25, 1)]\n"
     ]
    },
    {
     "data": {
      "image/png": "[encoded data removed]",
      "text/plain": [
       "<Figure size 936x432 with 1 Axes>"
      ]
     },
     "metadata": {
      "needs_background": "light"
     },
     "output_type": "display_data"
    }
   ],
   "source": [
    "# Please write your Python code in this cell and execute it.\n",
    "lengths = [len(token) for token in tokens]\n",
    "freq_len = nltk.FreqDist(lengths)\n",
    "print(\"Most common word length\")\n",
    "print(freq_len.most_common(1))\n",
    "\n",
    "data = freq_len.most_common(25)\n",
    "\n",
    "lengths = [item[0] for item in data]\n",
    "frequencies = [item[1] for item in data]\n",
    "\n",
    "plt.figure(figsize=(13, 6))\n",
    "plt.plot(lengths, frequencies, marker='o')\n",
    "plt.xlabel('Lengths')\n",
    "plt.ylabel('Frequencies')\n",
    "plt.title('Word length Frequencies')\n",
    "plt.xticks(rotation=90, ha='right')\n",
    "plt.gca().margins(x=0.01)\n",
    "plt.gcf().canvas.draw()\n",
    "plt.show()"
   ]
  },
  {
   "cell_type": "markdown",
   "metadata": {},
   "source": [
    "L'évolution est régulière, c'est-à-dire que ça devient progressivement moins fréquent pour les longueurs de mots. Il y a juste pour les mots de longueurs 2 qui sont moins fréquents que les mots de longueur 3 et 4."
   ]
  },
  {
   "cell_type": "markdown",
   "metadata": {},
   "source": [
    "## Fin de la partie 1b\n",
    "Veuillez nettoyer autant que possible ce _notebook_, exécutez une dernière fois toutes les cellules pour obtenir les résultats demandés, et enregistrez le _notebook_.  Puis ajoutez-le dans une archive _zip_ avec les _notebook_ des parties 1c et 1d, et soumettez l'archive individuellement sur Cyberlearn (_Laboratoire 1_). "
   ]
  }
 ],
 "metadata": {
  "kernelspec": {
   "display_name": "Python 3 (ipykernel)",
   "language": "python",
   "name": "python3"
  },
  "language_info": {
   "codemirror_mode": {
    "name": "ipython",
    "version": 3
   },
   "file_extension": ".py",
   "mimetype": "text/x-python",
   "name": "python",
   "nbconvert_exporter": "python",
   "pygments_lexer": "ipython3",
   "version": "3.9.7"
  }
 },
 "nbformat": 4,
 "nbformat_minor": 2
}
